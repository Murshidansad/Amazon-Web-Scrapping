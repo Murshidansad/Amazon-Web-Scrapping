{
 "cells": [
  {
   "cell_type": "code",
   "execution_count": 11,
   "id": "1813d7ac",
   "metadata": {},
   "outputs": [],
   "source": [
    "# import required libraries\n",
    "\n",
    "from bs4 import BeautifulSoup\n",
    "import requests\n",
    "import time\n",
    "import datetime\n",
    "import re"
   ]
  },
  {
   "cell_type": "code",
   "execution_count": 12,
   "id": "2fa3017e",
   "metadata": {},
   "outputs": [
    {
     "name": "stdout",
     "output_type": "stream",
     "text": [
      "\n",
      "                   Data Analyst T-Shirt for Men,Him, Male, Boss, Son - What's Your Superpower Tee Top - Men Clothing Shirt for Data Analyst\n",
      "                  \n",
      "\n",
      "                     $25.75\n",
      "                    \n"
     ]
    }
   ],
   "source": [
    "# Connect to the website and pull in data\n",
    "\n",
    "URL = \"https://www.amazon.com/Data-Analyst-T-Shirt-Male-Boss/dp/B09T5FYPBT/ref=sr_1_1?crid=OZETZCO6TT3C&keywords=data%2Banalyst%2Btshirt&qid=1653984187&sprefix=data%2Banalyst%2Btshirt%2Caps%2C345&sr=8-1&th=1&psc=1\"\n",
    "\n",
    "headers = {\"User-Agent\": \"Mozilla/5.0 (Windows NT 10.0; WOW64) AppleWebKit/537.36 (KHTML, like Gecko) Chrome/101.0.4951.67 Safari/537.36\"}\n",
    "\n",
    "page = requests.get(URL, headers=headers)\n",
    "\n",
    "soup1 = BeautifulSoup(page.content, \"html.parser\")\n",
    "\n",
    "soup2 = BeautifulSoup(soup1.prettify(), \"html.parser\")\n",
    "\n",
    "title = soup2.find(id=\"productTitle\").get_text()\n",
    "\n",
    "price = soup2.find('span','a-offscreen').get_text()\n",
    "\n",
    "print(title)\n",
    "print(price)\n"
   ]
  },
  {
   "cell_type": "code",
   "execution_count": 13,
   "id": "873df155",
   "metadata": {},
   "outputs": [
    {
     "name": "stdout",
     "output_type": "stream",
     "text": [
      "Data Analyst T-Shirt for Men,Him, Male, Boss, Son - What's Your Superpower Tee Top - Men Clothing Shirt for Data Analyst\n",
      "25.75\n"
     ]
    }
   ],
   "source": [
    "# Clean up the data to make it more readable\n",
    "\n",
    "price = price.strip()[1:]\n",
    "title = title.strip()\n",
    "\n",
    "print(title)\n",
    "print(price)"
   ]
  },
  {
   "cell_type": "code",
   "execution_count": 14,
   "id": "e582945c",
   "metadata": {},
   "outputs": [
    {
     "name": "stdout",
     "output_type": "stream",
     "text": [
      "2022-06-04\n"
     ]
    }
   ],
   "source": [
    "# Create a timestamp for your output when the data was collected\n",
    "\n",
    "today = datetime.date.today()\n",
    "print(today)"
   ]
  },
  {
   "cell_type": "code",
   "execution_count": 15,
   "id": "ebeeac68",
   "metadata": {},
   "outputs": [],
   "source": [
    "# Create CSV and write headers and data into the file\n",
    "\n",
    "import csv\n",
    "\n",
    "header = ['Title','Price','Date']\n",
    "data = [title,price,today]\n",
    "\n",
    "with open ('AmazonWebScrapingDataset.csv', 'w', newline='', encoding='UTF-8') as f:\n",
    "    writer = csv.writer(f)\n",
    "    writer.writerow(header)\n",
    "    writer.writerow(data)\n",
    "    "
   ]
  },
  {
   "cell_type": "code",
   "execution_count": 16,
   "id": "6dea4035",
   "metadata": {
    "scrolled": true
   },
   "outputs": [
    {
     "name": "stdout",
     "output_type": "stream",
     "text": [
      "                                               Title  Price        Date\n",
      "0  Data Analyst T-Shirt for Men,Him, Male, Boss, ...  25.75  2022-06-04\n"
     ]
    }
   ],
   "source": [
    "# Check the dataframe to double check the data is correct\n",
    "\n",
    "import pandas as pd\n",
    "\n",
    "df = pd.read_csv(r'C:\\Users\\DELL\\AmazonWebScrapingDataset.csv')\n",
    "print(df)\n",
    "\n"
   ]
  },
  {
   "cell_type": "code",
   "execution_count": 17,
   "id": "ad4c0479",
   "metadata": {},
   "outputs": [],
   "source": [
    "# Now we will append the data to csv file\n",
    "\n",
    "with open ('AmazonWebScrapingDataset.csv','a+', newline='',encoding='UTF8') as f:\n",
    "    writer = csv.writer(f)\n",
    "    writer.writerow(data)\n",
    "\n"
   ]
  },
  {
   "cell_type": "code",
   "execution_count": null,
   "id": "6a01c8d4",
   "metadata": {},
   "outputs": [],
   "source": [
    "# We will create a function that will pull the data from website and append to existing csv file\n",
    "import re\n",
    "def check_price():\n",
    "    URL = \"https://www.amazon.com/Data-Analyst-T-Shirt-Male-Boss/dp/B09T5FYPBT/ref=sr_1_1?crid=OZETZCO6TT3C&keywords=data%2Banalyst%2Btshirt&qid=1653984187&sprefix=data%2Banalyst%2Btshirt%2Caps%2C345&sr=8-1&th=1&psc=1\"\n",
    "\n",
    "    headers = {\"User-Agent\": \"Mozilla/5.0 (Windows NT 10.0; WOW64) AppleWebKit/537.36 (KHTML, like Gecko) Chrome/101.0.4951.67 Safari/537.36\"}\n",
    "\n",
    "    page = requests.get(URL, headers=headers)\n",
    "\n",
    "    soup1 = BeautifulSoup(page.content, \"html.parser\")\n",
    "\n",
    "    soup2 = BeautifulSoup(soup1.prettify(), \"html.parser\")\n",
    "\n",
    "    title = soup2.find(id=\"productTitle\").get_text()\n",
    "\n",
    "    price = soup2.find('span','a-offscreen').get_text()\n",
    "\n",
    "    price = price.strip()[1:]\n",
    "    title = title.strip()\n",
    "    \n",
    "    import datetime\n",
    "    \n",
    "    today = datetime.date.today()\n",
    "\n",
    "    import csv\n",
    "\n",
    "    header = ['Title','Price','Date']\n",
    "    data = [title,price,today]\n",
    "    \n",
    "    with open('AmazonWebScrapingDataset.csv','a+', newline='',encoding='UTF-8') as f:\n",
    "        writer = csv.writer(f)\n",
    "        writer.writerow(data)\n",
    "    "
   ]
  },
  {
   "cell_type": "code",
   "execution_count": null,
   "id": "c258a79d",
   "metadata": {},
   "outputs": [],
   "source": [
    "# Run check_price after a set time(Daily) and inputs data into the csv file\n",
    "import time\n",
    "\n",
    "while(True):\n",
    "    check_price()\n",
    "    time.sleep(86400)\n"
   ]
  },
  {
   "cell_type": "code",
   "execution_count": null,
   "id": "63fb9c44",
   "metadata": {},
   "outputs": [],
   "source": [
    "# Check the final results\n",
    "\n",
    "import pandas as pd\n",
    "\n",
    "df= pd.read_csv(r'C:\\Users\\DELL\\AmazonWebScrapingDataset.csv')\n",
    "print(df)"
   ]
  },
  {
   "cell_type": "code",
   "execution_count": 6,
   "id": "ae368da0",
   "metadata": {},
   "outputs": [],
   "source": [
    "\n",
    "    \n",
    "    "
   ]
  }
 ],
 "metadata": {
  "kernelspec": {
   "display_name": "Python 3 (ipykernel)",
   "language": "python",
   "name": "python3"
  },
  "language_info": {
   "codemirror_mode": {
    "name": "ipython",
    "version": 3
   },
   "file_extension": ".py",
   "mimetype": "text/x-python",
   "name": "python",
   "nbconvert_exporter": "python",
   "pygments_lexer": "ipython3",
   "version": "3.9.7"
  }
 },
 "nbformat": 4,
 "nbformat_minor": 5
}
